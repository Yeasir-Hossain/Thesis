{
 "cells": [
  {
   "cell_type": "code",
   "execution_count": 71,
   "id": "8fd57ea5",
   "metadata": {},
   "outputs": [],
   "source": [
    "import time\n",
    "import datetime\n",
    "import numpy as np\n",
    "from numpy import mean\n",
    "from numpy import std\n",
    "import pandas as pd\n",
    "\n",
    "from datetime import timedelta\n",
    "\n",
    "from sklearn.svm import SVC\n",
    "from sklearn import metrics\n",
    "from sklearn import datasets\n",
    "from sklearn.cluster import KMeans\n",
    "from sklearn.preprocessing import LabelEncoder\n",
    "from sklearn.preprocessing import MinMaxScaler\n",
    "from sklearn import preprocessing\n",
    "\n",
    "from sklearn.naive_bayes import GaussianNB\n",
    "from sklearn.tree import DecisionTreeClassifier \n",
    "from sklearn.metrics import accuracy_score\n",
    "from sklearn.pipeline import make_pipeline\n",
    "\n",
    "from sklearn.linear_model import SGDClassifier\n",
    "from sklearn.preprocessing import StandardScaler\n",
    "from sklearn.datasets import make_classification\n",
    "from sklearn.neighbors import KNeighborsClassifier\n",
    "from sklearn.ensemble import RandomForestClassifier\n",
    "from sklearn.model_selection import train_test_split\n",
    "\n",
    "from sklearn.datasets import make_classification\n",
    "from sklearn.ensemble import GradientBoostingClassifier\n",
    "from sklearn.model_selection import cross_val_score\n",
    "from sklearn.model_selection import RepeatedStratifiedKFold\n",
    "\n",
    "from sklearn.datasets import make_regression\n",
    "from sklearn.ensemble import GradientBoostingRegressor\n",
    "from sklearn.model_selection import RepeatedKFold\n",
    "\n",
    "import matplotlib.pyplot as plt"
   ]
  },
  {
   "cell_type": "code",
   "execution_count": 72,
   "id": "5b57a2d2",
   "metadata": {},
   "outputs": [],
   "source": [
    "data = pd.read_csv(\"cardio_train.csv\")"
   ]
  },
  {
   "cell_type": "code",
   "execution_count": 73,
   "id": "ba0627d7",
   "metadata": {},
   "outputs": [
    {
     "data": {
      "text/html": [
       "<div>\n",
       "<style scoped>\n",
       "    .dataframe tbody tr th:only-of-type {\n",
       "        vertical-align: middle;\n",
       "    }\n",
       "\n",
       "    .dataframe tbody tr th {\n",
       "        vertical-align: top;\n",
       "    }\n",
       "\n",
       "    .dataframe thead th {\n",
       "        text-align: right;\n",
       "    }\n",
       "</style>\n",
       "<table border=\"1\" class=\"dataframe\">\n",
       "  <thead>\n",
       "    <tr style=\"text-align: right;\">\n",
       "      <th></th>\n",
       "      <th>id</th>\n",
       "      <th>age</th>\n",
       "      <th>gender</th>\n",
       "      <th>height</th>\n",
       "      <th>weight</th>\n",
       "      <th>ap_hi</th>\n",
       "      <th>ap_lo</th>\n",
       "      <th>cholesterol</th>\n",
       "      <th>gluc</th>\n",
       "      <th>smoke</th>\n",
       "      <th>alco</th>\n",
       "      <th>active</th>\n",
       "      <th>cardio</th>\n",
       "      <th>output</th>\n",
       "    </tr>\n",
       "  </thead>\n",
       "  <tbody>\n",
       "    <tr>\n",
       "      <th>0</th>\n",
       "      <td>0</td>\n",
       "      <td>18393</td>\n",
       "      <td>2</td>\n",
       "      <td>168</td>\n",
       "      <td>62</td>\n",
       "      <td>0</td>\n",
       "      <td>110</td>\n",
       "      <td>80</td>\n",
       "      <td>1</td>\n",
       "      <td>1</td>\n",
       "      <td>0</td>\n",
       "      <td>0</td>\n",
       "      <td>1</td>\n",
       "      <td>0</td>\n",
       "    </tr>\n",
       "    <tr>\n",
       "      <th>1</th>\n",
       "      <td>1</td>\n",
       "      <td>20228</td>\n",
       "      <td>1</td>\n",
       "      <td>156</td>\n",
       "      <td>85</td>\n",
       "      <td>0</td>\n",
       "      <td>140</td>\n",
       "      <td>90</td>\n",
       "      <td>3</td>\n",
       "      <td>1</td>\n",
       "      <td>0</td>\n",
       "      <td>0</td>\n",
       "      <td>1</td>\n",
       "      <td>1</td>\n",
       "    </tr>\n",
       "    <tr>\n",
       "      <th>2</th>\n",
       "      <td>2</td>\n",
       "      <td>18857</td>\n",
       "      <td>1</td>\n",
       "      <td>165</td>\n",
       "      <td>64</td>\n",
       "      <td>0</td>\n",
       "      <td>130</td>\n",
       "      <td>70</td>\n",
       "      <td>3</td>\n",
       "      <td>1</td>\n",
       "      <td>0</td>\n",
       "      <td>0</td>\n",
       "      <td>0</td>\n",
       "      <td>1</td>\n",
       "    </tr>\n",
       "    <tr>\n",
       "      <th>3</th>\n",
       "      <td>3</td>\n",
       "      <td>17623</td>\n",
       "      <td>2</td>\n",
       "      <td>169</td>\n",
       "      <td>82</td>\n",
       "      <td>0</td>\n",
       "      <td>150</td>\n",
       "      <td>100</td>\n",
       "      <td>1</td>\n",
       "      <td>1</td>\n",
       "      <td>0</td>\n",
       "      <td>0</td>\n",
       "      <td>1</td>\n",
       "      <td>1</td>\n",
       "    </tr>\n",
       "    <tr>\n",
       "      <th>4</th>\n",
       "      <td>4</td>\n",
       "      <td>17474</td>\n",
       "      <td>1</td>\n",
       "      <td>156</td>\n",
       "      <td>56</td>\n",
       "      <td>0</td>\n",
       "      <td>100</td>\n",
       "      <td>60</td>\n",
       "      <td>1</td>\n",
       "      <td>1</td>\n",
       "      <td>0</td>\n",
       "      <td>0</td>\n",
       "      <td>0</td>\n",
       "      <td>0</td>\n",
       "    </tr>\n",
       "  </tbody>\n",
       "</table>\n",
       "</div>"
      ],
      "text/plain": [
       "   id    age  gender  height  weight  ap_hi  ap_lo  cholesterol  gluc  smoke  \\\n",
       "0   0  18393       2     168      62      0    110           80     1      1   \n",
       "1   1  20228       1     156      85      0    140           90     3      1   \n",
       "2   2  18857       1     165      64      0    130           70     3      1   \n",
       "3   3  17623       2     169      82      0    150          100     1      1   \n",
       "4   4  17474       1     156      56      0    100           60     1      1   \n",
       "\n",
       "   alco  active  cardio  output  \n",
       "0     0       0       1       0  \n",
       "1     0       0       1       1  \n",
       "2     0       0       0       1  \n",
       "3     0       0       1       1  \n",
       "4     0       0       0       0  "
      ]
     },
     "execution_count": 73,
     "metadata": {},
     "output_type": "execute_result"
    }
   ],
   "source": [
    "data.head()"
   ]
  },
  {
   "cell_type": "code",
   "execution_count": 74,
   "id": "af374f3e",
   "metadata": {},
   "outputs": [
    {
     "data": {
      "text/plain": [
       "(70000, 14)"
      ]
     },
     "execution_count": 74,
     "metadata": {},
     "output_type": "execute_result"
    }
   ],
   "source": [
    "data.shape"
   ]
  },
  {
   "cell_type": "code",
   "execution_count": 100,
   "id": "bb12c77c",
   "metadata": {},
   "outputs": [],
   "source": [
    "X=data[['age','gender','height','weight','ap_hi','ap_lo','cholesterol','gluc','smoke','alco','active','cardio']] \n",
    "y=data['output']\n",
    "\n",
    "# X=data[['age','gender','height','weight','ap_hi','ap_lo','cholesterol','gluc','smoke','alco','active','cardio']] \n",
    "# y=data['output']"
   ]
  },
  {
   "cell_type": "markdown",
   "id": "2a5194d4",
   "metadata": {},
   "source": [
    "# The ISNULL() function returns a specified value if the expression is NULL. If the expression is NOT NULL, this function returns the expression."
   ]
  },
  {
   "cell_type": "code",
   "execution_count": 76,
   "id": "a6b8d334",
   "metadata": {},
   "outputs": [
    {
     "data": {
      "text/html": [
       "<div>\n",
       "<style scoped>\n",
       "    .dataframe tbody tr th:only-of-type {\n",
       "        vertical-align: middle;\n",
       "    }\n",
       "\n",
       "    .dataframe tbody tr th {\n",
       "        vertical-align: top;\n",
       "    }\n",
       "\n",
       "    .dataframe thead th {\n",
       "        text-align: right;\n",
       "    }\n",
       "</style>\n",
       "<table border=\"1\" class=\"dataframe\">\n",
       "  <thead>\n",
       "    <tr style=\"text-align: right;\">\n",
       "      <th></th>\n",
       "      <th>id</th>\n",
       "      <th>age</th>\n",
       "      <th>gender</th>\n",
       "      <th>height</th>\n",
       "      <th>weight</th>\n",
       "      <th>ap_hi</th>\n",
       "      <th>ap_lo</th>\n",
       "      <th>cholesterol</th>\n",
       "      <th>gluc</th>\n",
       "      <th>smoke</th>\n",
       "      <th>alco</th>\n",
       "      <th>active</th>\n",
       "      <th>cardio</th>\n",
       "      <th>output</th>\n",
       "    </tr>\n",
       "  </thead>\n",
       "  <tbody>\n",
       "    <tr>\n",
       "      <th>0</th>\n",
       "      <td>False</td>\n",
       "      <td>False</td>\n",
       "      <td>False</td>\n",
       "      <td>False</td>\n",
       "      <td>False</td>\n",
       "      <td>False</td>\n",
       "      <td>False</td>\n",
       "      <td>False</td>\n",
       "      <td>False</td>\n",
       "      <td>False</td>\n",
       "      <td>False</td>\n",
       "      <td>False</td>\n",
       "      <td>False</td>\n",
       "      <td>False</td>\n",
       "    </tr>\n",
       "    <tr>\n",
       "      <th>1</th>\n",
       "      <td>False</td>\n",
       "      <td>False</td>\n",
       "      <td>False</td>\n",
       "      <td>False</td>\n",
       "      <td>False</td>\n",
       "      <td>False</td>\n",
       "      <td>False</td>\n",
       "      <td>False</td>\n",
       "      <td>False</td>\n",
       "      <td>False</td>\n",
       "      <td>False</td>\n",
       "      <td>False</td>\n",
       "      <td>False</td>\n",
       "      <td>False</td>\n",
       "    </tr>\n",
       "    <tr>\n",
       "      <th>2</th>\n",
       "      <td>False</td>\n",
       "      <td>False</td>\n",
       "      <td>False</td>\n",
       "      <td>False</td>\n",
       "      <td>False</td>\n",
       "      <td>False</td>\n",
       "      <td>False</td>\n",
       "      <td>False</td>\n",
       "      <td>False</td>\n",
       "      <td>False</td>\n",
       "      <td>False</td>\n",
       "      <td>False</td>\n",
       "      <td>False</td>\n",
       "      <td>False</td>\n",
       "    </tr>\n",
       "    <tr>\n",
       "      <th>3</th>\n",
       "      <td>False</td>\n",
       "      <td>False</td>\n",
       "      <td>False</td>\n",
       "      <td>False</td>\n",
       "      <td>False</td>\n",
       "      <td>False</td>\n",
       "      <td>False</td>\n",
       "      <td>False</td>\n",
       "      <td>False</td>\n",
       "      <td>False</td>\n",
       "      <td>False</td>\n",
       "      <td>False</td>\n",
       "      <td>False</td>\n",
       "      <td>False</td>\n",
       "    </tr>\n",
       "    <tr>\n",
       "      <th>4</th>\n",
       "      <td>False</td>\n",
       "      <td>False</td>\n",
       "      <td>False</td>\n",
       "      <td>False</td>\n",
       "      <td>False</td>\n",
       "      <td>False</td>\n",
       "      <td>False</td>\n",
       "      <td>False</td>\n",
       "      <td>False</td>\n",
       "      <td>False</td>\n",
       "      <td>False</td>\n",
       "      <td>False</td>\n",
       "      <td>False</td>\n",
       "      <td>False</td>\n",
       "    </tr>\n",
       "    <tr>\n",
       "      <th>...</th>\n",
       "      <td>...</td>\n",
       "      <td>...</td>\n",
       "      <td>...</td>\n",
       "      <td>...</td>\n",
       "      <td>...</td>\n",
       "      <td>...</td>\n",
       "      <td>...</td>\n",
       "      <td>...</td>\n",
       "      <td>...</td>\n",
       "      <td>...</td>\n",
       "      <td>...</td>\n",
       "      <td>...</td>\n",
       "      <td>...</td>\n",
       "      <td>...</td>\n",
       "    </tr>\n",
       "    <tr>\n",
       "      <th>69995</th>\n",
       "      <td>False</td>\n",
       "      <td>False</td>\n",
       "      <td>False</td>\n",
       "      <td>False</td>\n",
       "      <td>False</td>\n",
       "      <td>False</td>\n",
       "      <td>False</td>\n",
       "      <td>False</td>\n",
       "      <td>False</td>\n",
       "      <td>False</td>\n",
       "      <td>False</td>\n",
       "      <td>False</td>\n",
       "      <td>False</td>\n",
       "      <td>False</td>\n",
       "    </tr>\n",
       "    <tr>\n",
       "      <th>69996</th>\n",
       "      <td>False</td>\n",
       "      <td>False</td>\n",
       "      <td>False</td>\n",
       "      <td>False</td>\n",
       "      <td>False</td>\n",
       "      <td>False</td>\n",
       "      <td>False</td>\n",
       "      <td>False</td>\n",
       "      <td>False</td>\n",
       "      <td>False</td>\n",
       "      <td>False</td>\n",
       "      <td>False</td>\n",
       "      <td>False</td>\n",
       "      <td>False</td>\n",
       "    </tr>\n",
       "    <tr>\n",
       "      <th>69997</th>\n",
       "      <td>False</td>\n",
       "      <td>False</td>\n",
       "      <td>False</td>\n",
       "      <td>False</td>\n",
       "      <td>False</td>\n",
       "      <td>False</td>\n",
       "      <td>False</td>\n",
       "      <td>False</td>\n",
       "      <td>False</td>\n",
       "      <td>False</td>\n",
       "      <td>False</td>\n",
       "      <td>False</td>\n",
       "      <td>False</td>\n",
       "      <td>False</td>\n",
       "    </tr>\n",
       "    <tr>\n",
       "      <th>69998</th>\n",
       "      <td>False</td>\n",
       "      <td>False</td>\n",
       "      <td>False</td>\n",
       "      <td>False</td>\n",
       "      <td>False</td>\n",
       "      <td>False</td>\n",
       "      <td>False</td>\n",
       "      <td>False</td>\n",
       "      <td>False</td>\n",
       "      <td>False</td>\n",
       "      <td>False</td>\n",
       "      <td>False</td>\n",
       "      <td>False</td>\n",
       "      <td>False</td>\n",
       "    </tr>\n",
       "    <tr>\n",
       "      <th>69999</th>\n",
       "      <td>False</td>\n",
       "      <td>False</td>\n",
       "      <td>False</td>\n",
       "      <td>False</td>\n",
       "      <td>False</td>\n",
       "      <td>False</td>\n",
       "      <td>False</td>\n",
       "      <td>False</td>\n",
       "      <td>False</td>\n",
       "      <td>False</td>\n",
       "      <td>False</td>\n",
       "      <td>False</td>\n",
       "      <td>False</td>\n",
       "      <td>False</td>\n",
       "    </tr>\n",
       "  </tbody>\n",
       "</table>\n",
       "<p>70000 rows × 14 columns</p>\n",
       "</div>"
      ],
      "text/plain": [
       "          id    age  gender  height  weight  ap_hi  ap_lo  cholesterol   gluc  \\\n",
       "0      False  False   False   False   False  False  False        False  False   \n",
       "1      False  False   False   False   False  False  False        False  False   \n",
       "2      False  False   False   False   False  False  False        False  False   \n",
       "3      False  False   False   False   False  False  False        False  False   \n",
       "4      False  False   False   False   False  False  False        False  False   \n",
       "...      ...    ...     ...     ...     ...    ...    ...          ...    ...   \n",
       "69995  False  False   False   False   False  False  False        False  False   \n",
       "69996  False  False   False   False   False  False  False        False  False   \n",
       "69997  False  False   False   False   False  False  False        False  False   \n",
       "69998  False  False   False   False   False  False  False        False  False   \n",
       "69999  False  False   False   False   False  False  False        False  False   \n",
       "\n",
       "       smoke   alco  active  cardio  output  \n",
       "0      False  False   False   False   False  \n",
       "1      False  False   False   False   False  \n",
       "2      False  False   False   False   False  \n",
       "3      False  False   False   False   False  \n",
       "4      False  False   False   False   False  \n",
       "...      ...    ...     ...     ...     ...  \n",
       "69995  False  False   False   False   False  \n",
       "69996  False  False   False   False   False  \n",
       "69997  False  False   False   False   False  \n",
       "69998  False  False   False   False   False  \n",
       "69999  False  False   False   False   False  \n",
       "\n",
       "[70000 rows x 14 columns]"
      ]
     },
     "execution_count": 76,
     "metadata": {},
     "output_type": "execute_result"
    }
   ],
   "source": [
    "data.isnull()"
   ]
  },
  {
   "cell_type": "markdown",
   "id": "96536095",
   "metadata": {},
   "source": [
    "# While the chain of .isnull().values.any() will work for a DataFrame object to indicate if any value is missing, in some cases it may be useful to also count the number of missing values across the entire DataFrame."
   ]
  },
  {
   "cell_type": "code",
   "execution_count": 77,
   "id": "31196504",
   "metadata": {},
   "outputs": [
    {
     "data": {
      "text/plain": [
       "False"
      ]
     },
     "execution_count": 77,
     "metadata": {},
     "output_type": "execute_result"
    }
   ],
   "source": [
    "data.isnull().values.any()"
   ]
  },
  {
   "cell_type": "markdown",
   "id": "a375162a",
   "metadata": {},
   "source": [
    "# In some cases, you may wish to determine how many missing values exist in the collection, in which case you can use .sum() chained on:"
   ]
  },
  {
   "cell_type": "code",
   "execution_count": 78,
   "id": "a214d96a",
   "metadata": {},
   "outputs": [
    {
     "data": {
      "text/plain": [
       "id             0\n",
       "age            0\n",
       "gender         0\n",
       "height         0\n",
       "weight         0\n",
       "ap_hi          0\n",
       "ap_lo          0\n",
       "cholesterol    0\n",
       "gluc           0\n",
       "smoke          0\n",
       "alco           0\n",
       "active         0\n",
       "cardio         0\n",
       "output         0\n",
       "dtype: int64"
      ]
     },
     "execution_count": 78,
     "metadata": {},
     "output_type": "execute_result"
    }
   ],
   "source": [
    "data.isnull().sum()"
   ]
  },
  {
   "cell_type": "markdown",
   "id": "a650edcc",
   "metadata": {},
   "source": [
    "# In order to get the total summation of all missing values in the DataFrame, we chain two .sum() methods together:"
   ]
  },
  {
   "cell_type": "code",
   "execution_count": 79,
   "id": "022c8750",
   "metadata": {},
   "outputs": [
    {
     "data": {
      "text/plain": [
       "0"
      ]
     },
     "execution_count": 79,
     "metadata": {},
     "output_type": "execute_result"
    }
   ],
   "source": [
    "data.isnull().sum().sum()"
   ]
  },
  {
   "cell_type": "markdown",
   "id": "65d8eacf",
   "metadata": {},
   "source": [
    "# Random Forest"
   ]
  },
  {
   "cell_type": "code",
   "execution_count": 80,
   "id": "2066d3bd",
   "metadata": {},
   "outputs": [],
   "source": [
    "X_train, X_test, y_train, y_test = train_test_split(X, y, test_size=0.3)"
   ]
  },
  {
   "cell_type": "code",
   "execution_count": 81,
   "id": "3db04467",
   "metadata": {},
   "outputs": [],
   "source": [
    "clf=RandomForestClassifier(n_estimators=100)"
   ]
  },
  {
   "cell_type": "code",
   "execution_count": 82,
   "id": "7832b0bd",
   "metadata": {},
   "outputs": [
    {
     "data": {
      "text/plain": [
       "RandomForestClassifier()"
      ]
     },
     "execution_count": 82,
     "metadata": {},
     "output_type": "execute_result"
    }
   ],
   "source": [
    "# a = datetime.datetime.now().replace(microsecond=0)\n",
    "clf.fit(X_train,y_train)\n",
    "# b = datetime.datetime.now().replace(microsecond=0)\n",
    "# print(b-a)"
   ]
  },
  {
   "cell_type": "code",
   "execution_count": 83,
   "id": "77c2787f",
   "metadata": {},
   "outputs": [
    {
     "name": "stdout",
     "output_type": "stream",
     "text": [
      "<class 'float'>\n",
      "Random Forest Time Duration -  0:00:00.789887\n",
      "Random Forest Accuracy: 0.7152857142857143\n"
     ]
    }
   ],
   "source": [
    "a = datetime.datetime.now()\n",
    "y_pred=clf.predict(X_test)\n",
    "b = datetime.datetime.now()\n",
    "rf_time = (b-a)\n",
    "rf_ac = metrics.accuracy_score(y_test, y_pred)\n",
    "rf_run_time = rf_time / datetime.timedelta(microseconds=1)\n",
    "print(type(rf_run_time))\n",
    "print('Random Forest Time Duration - ',b-a)\n",
    "print(\"Random Forest Accuracy:\",metrics.accuracy_score(y_test, y_pred))"
   ]
  },
  {
   "cell_type": "code",
   "execution_count": 51,
   "id": "eadb50ad",
   "metadata": {},
   "outputs": [],
   "source": [
    "# a = datetime.datetime.now()\n",
    "# b = datetime.datetime.now()\n",
    "# print(b-a)"
   ]
  },
  {
   "cell_type": "markdown",
   "id": "fe4098eb",
   "metadata": {},
   "source": [
    "# SVM"
   ]
  },
  {
   "cell_type": "code",
   "execution_count": 52,
   "id": "3d8b1a97",
   "metadata": {},
   "outputs": [],
   "source": [
    "X_train, X_test, y_train, y_test = train_test_split(X, y, test_size=0.3, random_state=1, stratify = y)"
   ]
  },
  {
   "cell_type": "code",
   "execution_count": 53,
   "id": "77ab8b9d",
   "metadata": {},
   "outputs": [],
   "source": [
    "# Feature Scaling\n",
    " \n",
    "sc = StandardScaler()\n",
    "sc.fit(X_train)\n",
    "X_train_std = sc.transform(X_train)\n",
    "X_test_std = sc.transform(X_test)"
   ]
  },
  {
   "cell_type": "code",
   "execution_count": 54,
   "id": "0cb46301",
   "metadata": {},
   "outputs": [
    {
     "data": {
      "text/plain": [
       "SVC(C=0.1, kernel='linear', random_state=1)"
      ]
     },
     "execution_count": 54,
     "metadata": {},
     "output_type": "execute_result"
    }
   ],
   "source": [
    "# Training a SVM classifier using SVC class\n",
    "svm = SVC(kernel= 'linear', random_state=1, C=0.1)\n",
    "svm.fit(X_train_std, y_train)"
   ]
  },
  {
   "cell_type": "code",
   "execution_count": 108,
   "id": "ecc8a95c",
   "metadata": {},
   "outputs": [
    {
     "name": "stdout",
     "output_type": "stream",
     "text": [
      "1997.0\n",
      "<class 'numpy.float64'>\n",
      "SVM Time Duration -  0:00:00.001997\n",
      "SVM Accuracy: 0.500\n"
     ]
    }
   ],
   "source": [
    "# Mode performance\n",
    "a = datetime.datetime.now()\n",
    "y_pred = svm.predict(X_test_std)\n",
    "b = datetime.datetime.now()\n",
    "svm_time = b-a\n",
    "svm_ac = accuracy_score(y_test, y_pred)\n",
    "\n",
    "\n",
    "svm_time_run_time = svm_time / datetime.timedelta(microseconds=1)\n",
    "print(svm_time_run_time)\n",
    "\n",
    "# print(type(accuracy_score(y_test, y_pred)))\n",
    "print('SVM Time Duration - ',b-a)\n",
    "print('SVM Accuracy: %.3f' % accuracy_score(y_test, y_pred))"
   ]
  },
  {
   "cell_type": "markdown",
   "id": "5643ae43",
   "metadata": {},
   "source": [
    "# SVM SGDClassifier "
   ]
  },
  {
   "cell_type": "code",
   "execution_count": 107,
   "id": "05f92002",
   "metadata": {},
   "outputs": [
    {
     "name": "stdout",
     "output_type": "stream",
     "text": [
      "1002.0\n",
      "0.49952380952380954\n",
      "SVM SGDClassifier -  0:00:00.001002\n",
      "SVM SGDClassifier Accuracy: 0.500\n"
     ]
    }
   ],
   "source": [
    "# Instantiate SVM classifier using SGDClassifier\n",
    "svm = SGDClassifier(loss='hinge')\n",
    " \n",
    "# Fit the model\n",
    "svm.fit(X_train_std, y_train)\n",
    " \n",
    "# Model Performance\n",
    "a = datetime.datetime.now()\n",
    "y_pred = svm.predict(X_test_std)\n",
    "b = datetime.datetime.now()\n",
    "\n",
    "\n",
    "sgdc_ac = accuracy_score(y_test, y_pred)\n",
    "\n",
    "sgdc_time = b-a\n",
    "sgdc_time_run_time = sgdc_time / datetime.timedelta(microseconds=1)\n",
    "print(sgdc_time_run_time)\n",
    "\n",
    "print(sgdc_ac)\n",
    "print('SVM SGDClassifier - ',b-a)\n",
    "print('SVM SGDClassifier Accuracy: %.3f' % accuracy_score(y_test, y_pred))"
   ]
  },
  {
   "cell_type": "markdown",
   "id": "39bbd322",
   "metadata": {},
   "source": [
    "# KNN.Model Evaluation for k=5"
   ]
  },
  {
   "cell_type": "code",
   "execution_count": 57,
   "id": "3432d282",
   "metadata": {},
   "outputs": [
    {
     "data": {
      "text/plain": [
       "KNeighborsClassifier()"
      ]
     },
     "execution_count": 57,
     "metadata": {},
     "output_type": "execute_result"
    }
   ],
   "source": [
    "X_train, X_test, y_train, y_test = train_test_split(X, y, test_size=0.3)\n",
    "#Create KNN Classifier\n",
    "knn = KNeighborsClassifier(n_neighbors=5)\n",
    "\n",
    "#Train the model using the training sets\n",
    "knn.fit(X_train, y_train)"
   ]
  },
  {
   "cell_type": "code",
   "execution_count": 106,
   "id": "ffca594c",
   "metadata": {},
   "outputs": [
    {
     "name": "stdout",
     "output_type": "stream",
     "text": [
      "<class 'numpy.float64'>\n",
      "1789247.0\n",
      "KNN k=5 Time Duration-  0:00:01.789247\n",
      "KNN k=5 Accuracy: 0.6872857142857143\n"
     ]
    }
   ],
   "source": [
    "#Predict the response for test dataset\n",
    "a = datetime.datetime.now()\n",
    "y_pred = knn.predict(X_test)\n",
    "b = datetime.datetime.now()\n",
    "\n",
    "knn_five_time = b-a\n",
    "knn_five_ac = metrics.accuracy_score(y_test, y_pred)\n",
    "\n",
    "\n",
    "\n",
    "print(type(knn_five_ac))\n",
    "\n",
    "knn_five_time = b-a\n",
    "knn_five_time_run_time = knn_five_time / datetime.timedelta(microseconds=1)\n",
    "print(knn_five_time_run_time)\n",
    "\n",
    "\n",
    "print('KNN k=5 Time Duration- ',b-a)\n",
    "print(\"KNN k=5 Accuracy:\",metrics.accuracy_score(y_test, y_pred))"
   ]
  },
  {
   "cell_type": "markdown",
   "id": "c642f546",
   "metadata": {},
   "source": [
    "# KNN Re-generating Model for K=7"
   ]
  },
  {
   "cell_type": "code",
   "execution_count": 105,
   "id": "56dde330",
   "metadata": {},
   "outputs": [
    {
     "name": "stdout",
     "output_type": "stream",
     "text": [
      "1699457.0\n",
      "KNN k=7 Time Duration-  0:00:01.699457\n",
      "KNN k=7 Accuracy: 0.6872857142857143\n"
     ]
    }
   ],
   "source": [
    "knn = KNeighborsClassifier(n_neighbors=7)\n",
    "#Create KNN Classifier\n",
    "knn = KNeighborsClassifier(n_neighbors=7)\n",
    "\n",
    "#Train the model using the training sets\n",
    "knn.fit(X_train, y_train)\n",
    "\n",
    "#Predict the response for test dataset\n",
    "y_pred = knn.predict(X_test)\n",
    "\n",
    "a = datetime.datetime.now()\n",
    "y_pred = knn.predict(X_test)\n",
    "b = datetime.datetime.now()\n",
    "\n",
    "knn_seven_ac = metrics.accuracy_score(y_test, y_pred)\n",
    "\n",
    "knn_seven_time = b-a\n",
    "knn_seven_time_run_time = knn_seven_time / datetime.timedelta(microseconds=1)\n",
    "print(knn_seven_time_run_time)\n",
    "\n",
    "\n",
    "print('KNN k=7 Time Duration- ',b-a)\n",
    "print(\"KNN k=7 Accuracy:\",metrics.accuracy_score(y_test, y_pred))  "
   ]
  },
  {
   "cell_type": "markdown",
   "id": "d43e1e8e",
   "metadata": {},
   "source": [
    "# Gradient Boosting Machine for Classification using repeated k-fold cross-validation and reports the mean accuracy."
   ]
  },
  {
   "cell_type": "code",
   "execution_count": 104,
   "id": "39512c9e",
   "metadata": {},
   "outputs": [
    {
     "name": "stdout",
     "output_type": "stream",
     "text": [
      "387034.0\n",
      "Gradient Boosting Machine for Classification Time Duation-  0:00:00.387034\n",
      "Gradient Boosting Machine Accuracy: 0.915 (0.026)\n"
     ]
    }
   ],
   "source": [
    "# define dataset\n",
    "X, y = make_classification(n_samples=1000, n_features=10, n_informative=5, n_redundant=5, random_state=1)\n",
    "\n",
    "# evaluate the model\n",
    "model = GradientBoostingClassifier()\n",
    "cv = RepeatedStratifiedKFold(n_splits=10, n_repeats=3, random_state=1)\n",
    "n_scores = cross_val_score(model, X, y, scoring='accuracy', cv=cv, n_jobs=-1, error_score='raise')\n",
    "\n",
    "# fit the model on the whole dataset\n",
    "model = GradientBoostingClassifier()\n",
    "a = datetime.datetime.now()\n",
    "model.fit(X, y)\n",
    "b = datetime.datetime.now()\n",
    "\n",
    "gb_time_classification = b-a\n",
    "gb_time_classification_ac = (mean(n_scores))\n",
    "gb_time_c_std_ac = std(n_scores)\n",
    "# print(gb_time_c_std_ac)\n",
    "# print(mean(n_scores))\n",
    "\n",
    "\n",
    "gb_time_classification_run_time = gb_time_classification / datetime.timedelta(microseconds=1)\n",
    "print(gb_time_classification_run_time)\n",
    "\n",
    "print('Gradient Boosting Machine for Classification Time Duation- ',b-a)\n",
    "print('Gradient Boosting Machine Accuracy: %.3f (%.3f)' % (mean(n_scores), std(n_scores)))\n"
   ]
  },
  {
   "cell_type": "markdown",
   "id": "0d47c44e",
   "metadata": {},
   "source": [
    "# Gradient Boosting Machine for Regression using repeated k-fold cross-validation and reports the mean absolute error."
   ]
  },
  {
   "cell_type": "code",
   "execution_count": 97,
   "id": "3d4ff8f1",
   "metadata": {},
   "outputs": [],
   "source": [
    "# # define dataset\n",
    "# X, y = make_regression(n_samples=1000, n_features=10, n_informative=5, random_state=1)\n",
    "\n",
    "# # evaluate the model\n",
    "# model = GradientBoostingRegressor()\n",
    "# cv = RepeatedKFold(n_splits=10, n_repeats=3, random_state=1)\n",
    "# n_scores = cross_val_score(model, X, y, scoring='neg_mean_absolute_error', cv=cv, n_jobs=-1, error_score='raise')\n",
    "\n",
    "\n",
    "# # fit the model on the whole dataset\n",
    "# model = GradientBoostingRegressor()\n",
    "# a = datetime.datetime.now()\n",
    "# model.fit(X, y)\n",
    "# b = datetime.datetime.now()\n",
    "# gb_regressor = b-a\n",
    "# gb_reg_ac = (mean(n_scores))\n",
    "# gb_reg_s_ac = (std(n_scores))\n",
    "# print(gb_reg_ac)\n",
    "\n",
    "# print('Gradient Boosting Machine for Regression Time Duation- ',b-a)\n",
    "# print('Gradient Boosting Machine for Regression : %.3f (%.3f)' % (mean(n_scores), std(n_scores)))\n",
    "\n",
    "# # -11.859598218915728\n",
    "# # Gradient Boosting Machine for Regression Time Duation-  0:00:00.283241\n",
    "# # Gradient Boosting Machine for Regression : -11.860 (1.130)"
   ]
  },
  {
   "cell_type": "markdown",
   "id": "70312c4d",
   "metadata": {},
   "source": [
    "# K means"
   ]
  },
  {
   "cell_type": "code",
   "execution_count": 94,
   "id": "86674eec",
   "metadata": {},
   "outputs": [],
   "source": [
    "\n",
    "\n",
    "# X_train, X_test, y_train, y_test = train_test_split(X, y, test_size=0.3, random_state=1)\n",
    "\n",
    "# a = datetime.datetime.now()\n",
    "# kmeans = KMeans(n_clusters=2, max_iter=600, algorithm = 'auto')\n",
    "# kmeans.fit(X)\n",
    "# b = datetime.datetime.now()\n",
    "\n",
    "# kmeans_time = b-a\n",
    "\n",
    "# print('K mean time duration -',b-a)"
   ]
  },
  {
   "cell_type": "markdown",
   "id": "7bd01966",
   "metadata": {},
   "source": [
    "# Naive Bayes"
   ]
  },
  {
   "cell_type": "code",
   "execution_count": 101,
   "id": "55a26c48",
   "metadata": {},
   "outputs": [
    {
     "name": "stdout",
     "output_type": "stream",
     "text": [
      "7961.0\n",
      "Naive Bayes Time Duration 0:00:00.007961\n",
      "Accuracy: 0.5702380952380952\n"
     ]
    }
   ],
   "source": [
    "X_train, X_test, y_train, y_test = train_test_split(X, y, test_size=0.3, random_state=1)\n",
    "\n",
    "#Create a Gaussian Classifier\n",
    "gnb = GaussianNB()\n",
    "\n",
    "#Train the model using the training sets\n",
    "gnb.fit(X_train, y_train)\n",
    "\n",
    "#Predict the response for test dataset\n",
    "a = datetime.datetime.now()\n",
    "y_pred = gnb.predict(X_test)\n",
    "b = datetime.datetime.now()\n",
    "\n",
    "nb_time = b-a\n",
    "nb_run_time = nb_time / datetime.timedelta(microseconds=1)\n",
    "print(nb_run_time)\n",
    "\n",
    "print('Naive Bayes Time Duration', b-a)\n",
    "print(\"Accuracy:\",metrics.accuracy_score(y_test, y_pred))"
   ]
  },
  {
   "cell_type": "markdown",
   "id": "8bfd6a68",
   "metadata": {},
   "source": [
    "# Decision Tree"
   ]
  },
  {
   "cell_type": "code",
   "execution_count": 102,
   "id": "869b4105",
   "metadata": {},
   "outputs": [
    {
     "name": "stdout",
     "output_type": "stream",
     "text": [
      "8976.0\n",
      "Decision Tree Time Duration 0:00:00.008976\n",
      "Accuracy: 0.6330476190476191\n"
     ]
    }
   ],
   "source": [
    "X_train, X_test, y_train, y_test = train_test_split(X, y, test_size=0.3, random_state=1)\n",
    "clf = DecisionTreeClassifier()\n",
    "\n",
    "clf = clf.fit(X_train,y_train)\n",
    "a = datetime.datetime.now()\n",
    "y_pred = clf.predict(X_test)\n",
    "b = datetime.datetime.now()\n",
    "\n",
    "dt_time = b-a\n",
    "dt_ac = metrics.accuracy_score(y_test, y_pred)\n",
    "\n",
    "dt_time = b-a\n",
    "dt_run_time = dt_time / datetime.timedelta(microseconds=1)\n",
    "print(dt_run_time)\n",
    "\n",
    "print('Decision Tree Time Duration',b-a)\n",
    "\n",
    "print(\"Accuracy:\",metrics.accuracy_score(y_test, y_pred))"
   ]
  },
  {
   "cell_type": "markdown",
   "id": "79d4cbec",
   "metadata": {},
   "source": [
    "# Ploting Accuracy"
   ]
  },
  {
   "cell_type": "code",
   "execution_count": 98,
   "id": "aa8fd983",
   "metadata": {},
   "outputs": [
    {
     "name": "stdout",
     "output_type": "stream",
     "text": [
      "<class 'datetime.timedelta'>\n"
     ]
    },
    {
     "data": {
      "image/png": "[encoded data removed]",
      "text/plain": [
       "<Figure size 1080x360 with 1 Axes>"
      ]
     },
     "metadata": {
      "needs_background": "light"
     },
     "output_type": "display_data"
    }
   ],
   "source": [
    "fig = plt.figure(figsize = (15, 5))\n",
    "# Accuray_List = [rf_time, svm_time, sgdc_time, knn_five_time, knn_seven_time, gb_time_classification, gb_regressor, kmeans_time, nb_time, dt_time]\n",
    "algo = ['Random Forest', 'SVM', 'SVM \\nSGDClassifier', 'KNN=5', 'KNN=7', 'Gradient \\n Boosting \\n Classification \\n (Mean)', 'Gradient \\n Boosting \\n Classification \\n (STD)',  'Naive Bayes', 'Decision Tree']\n",
    "\n",
    "algo_accuracy = [rf_ac, svm_ac, sgdc_ac, knn_five_ac, knn_seven_ac, gb_time_classification_ac, gb_time_c_std_ac, nb_ac, dt_ac]\n",
    "\n",
    "plt.bar(algo, algo_accuracy, color ='blue', width=0.8)\n",
    " \n",
    "print(type(knn_five_time))\n",
    "plt.xlabel(\"\\n\\nAlgorithm\")\n",
    "plt.ylabel(\"Accuracy\")\n",
    "plt.title(\"Run Time of Every Algorithm\")\n",
    "plt.show()"
   ]
  },
  {
   "cell_type": "code",
   "execution_count": null,
   "id": "d1e9787a",
   "metadata": {},
   "outputs": [],
   "source": []
  }
 ],
 "metadata": {
  "kernelspec": {
   "display_name": "Python 3 (ipykernel)",
   "language": "python",
   "name": "python3"
  },
  "language_info": {
   "codemirror_mode": {
    "name": "ipython",
    "version": 3
   },
   "file_extension": ".py",
   "mimetype": "text/x-python",
   "name": "python",
   "nbconvert_exporter": "python",
   "pygments_lexer": "ipython3",
   "version": "3.9.12"
  }
 },
 "nbformat": 4,
 "nbformat_minor": 5
}
