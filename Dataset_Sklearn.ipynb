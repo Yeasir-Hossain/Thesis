{
 "cells": [
  {
   "cell_type": "code",
   "execution_count": 59,
   "id": "8fd57ea5",
   "metadata": {},
   "outputs": [],
   "source": [
    "import time\n",
    "import datetime\n",
    "import numpy as np\n",
    "from numpy import mean\n",
    "from numpy import std\n",
    "import pandas as pd\n",
    "from sklearn.svm import SVC\n",
    "from sklearn import metrics\n",
    "from sklearn import datasets\n",
    "from sklearn import preprocessing\n",
    "from sklearn.metrics import accuracy_score\n",
    "from sklearn.pipeline import make_pipeline\n",
    "from sklearn.linear_model import SGDClassifier\n",
    "from sklearn.preprocessing import StandardScaler\n",
    "from sklearn.datasets import make_classification\n",
    "from sklearn.neighbors import KNeighborsClassifier\n",
    "from sklearn.ensemble import RandomForestClassifier\n",
    "from sklearn.model_selection import train_test_split\n",
    "\n",
    "from sklearn.datasets import make_classification\n",
    "from sklearn.ensemble import GradientBoostingClassifier\n",
    "from sklearn.model_selection import cross_val_score\n",
    "from sklearn.model_selection import RepeatedStratifiedKFold\n",
    "\n",
    "from sklearn.datasets import make_regression\n",
    "from sklearn.ensemble import GradientBoostingRegressor\n",
    "from sklearn.model_selection import RepeatedKFold\n",
    "\n",
    "\n",
    "from matplotlib import pyplot"
   ]
  },
  {
   "cell_type": "code",
   "execution_count": 60,
   "id": "5b57a2d2",
   "metadata": {},
   "outputs": [],
   "source": [
    "data = pd.read_csv(\"cardio_train.csv\")"
   ]
  },
  {
   "cell_type": "code",
   "execution_count": 61,
   "id": "ba0627d7",
   "metadata": {},
   "outputs": [
    {
     "data": {
      "text/html": [
       "<div>\n",
       "<style scoped>\n",
       "    .dataframe tbody tr th:only-of-type {\n",
       "        vertical-align: middle;\n",
       "    }\n",
       "\n",
       "    .dataframe tbody tr th {\n",
       "        vertical-align: top;\n",
       "    }\n",
       "\n",
       "    .dataframe thead th {\n",
       "        text-align: right;\n",
       "    }\n",
       "</style>\n",
       "<table border=\"1\" class=\"dataframe\">\n",
       "  <thead>\n",
       "    <tr style=\"text-align: right;\">\n",
       "      <th></th>\n",
       "      <th>id</th>\n",
       "      <th>age</th>\n",
       "      <th>gender</th>\n",
       "      <th>height</th>\n",
       "      <th>weight</th>\n",
       "      <th>ap_hi</th>\n",
       "      <th>ap_lo</th>\n",
       "      <th>cholesterol</th>\n",
       "      <th>gluc</th>\n",
       "      <th>smoke</th>\n",
       "      <th>alco</th>\n",
       "      <th>active</th>\n",
       "      <th>cardio</th>\n",
       "      <th>output</th>\n",
       "    </tr>\n",
       "  </thead>\n",
       "  <tbody>\n",
       "    <tr>\n",
       "      <th>0</th>\n",
       "      <td>0</td>\n",
       "      <td>18393</td>\n",
       "      <td>2</td>\n",
       "      <td>168</td>\n",
       "      <td>62</td>\n",
       "      <td>0</td>\n",
       "      <td>110</td>\n",
       "      <td>80</td>\n",
       "      <td>1</td>\n",
       "      <td>1</td>\n",
       "      <td>0</td>\n",
       "      <td>0</td>\n",
       "      <td>1</td>\n",
       "      <td>0</td>\n",
       "    </tr>\n",
       "    <tr>\n",
       "      <th>1</th>\n",
       "      <td>1</td>\n",
       "      <td>20228</td>\n",
       "      <td>1</td>\n",
       "      <td>156</td>\n",
       "      <td>85</td>\n",
       "      <td>0</td>\n",
       "      <td>140</td>\n",
       "      <td>90</td>\n",
       "      <td>3</td>\n",
       "      <td>1</td>\n",
       "      <td>0</td>\n",
       "      <td>0</td>\n",
       "      <td>1</td>\n",
       "      <td>1</td>\n",
       "    </tr>\n",
       "    <tr>\n",
       "      <th>2</th>\n",
       "      <td>2</td>\n",
       "      <td>18857</td>\n",
       "      <td>1</td>\n",
       "      <td>165</td>\n",
       "      <td>64</td>\n",
       "      <td>0</td>\n",
       "      <td>130</td>\n",
       "      <td>70</td>\n",
       "      <td>3</td>\n",
       "      <td>1</td>\n",
       "      <td>0</td>\n",
       "      <td>0</td>\n",
       "      <td>0</td>\n",
       "      <td>1</td>\n",
       "    </tr>\n",
       "    <tr>\n",
       "      <th>3</th>\n",
       "      <td>3</td>\n",
       "      <td>17623</td>\n",
       "      <td>2</td>\n",
       "      <td>169</td>\n",
       "      <td>82</td>\n",
       "      <td>0</td>\n",
       "      <td>150</td>\n",
       "      <td>100</td>\n",
       "      <td>1</td>\n",
       "      <td>1</td>\n",
       "      <td>0</td>\n",
       "      <td>0</td>\n",
       "      <td>1</td>\n",
       "      <td>1</td>\n",
       "    </tr>\n",
       "    <tr>\n",
       "      <th>4</th>\n",
       "      <td>4</td>\n",
       "      <td>17474</td>\n",
       "      <td>1</td>\n",
       "      <td>156</td>\n",
       "      <td>56</td>\n",
       "      <td>0</td>\n",
       "      <td>100</td>\n",
       "      <td>60</td>\n",
       "      <td>1</td>\n",
       "      <td>1</td>\n",
       "      <td>0</td>\n",
       "      <td>0</td>\n",
       "      <td>0</td>\n",
       "      <td>0</td>\n",
       "    </tr>\n",
       "  </tbody>\n",
       "</table>\n",
       "</div>"
      ],
      "text/plain": [
       "   id    age  gender  height  weight  ap_hi  ap_lo  cholesterol  gluc  smoke  \\\n",
       "0   0  18393       2     168      62      0    110           80     1      1   \n",
       "1   1  20228       1     156      85      0    140           90     3      1   \n",
       "2   2  18857       1     165      64      0    130           70     3      1   \n",
       "3   3  17623       2     169      82      0    150          100     1      1   \n",
       "4   4  17474       1     156      56      0    100           60     1      1   \n",
       "\n",
       "   alco  active  cardio  output  \n",
       "0     0       0       1       0  \n",
       "1     0       0       1       1  \n",
       "2     0       0       0       1  \n",
       "3     0       0       1       1  \n",
       "4     0       0       0       0  "
      ]
     },
     "execution_count": 61,
     "metadata": {},
     "output_type": "execute_result"
    }
   ],
   "source": [
    "data.head()"
   ]
  },
  {
   "cell_type": "code",
   "execution_count": 62,
   "id": "af374f3e",
   "metadata": {},
   "outputs": [
    {
     "data": {
      "text/plain": [
       "(70000, 14)"
      ]
     },
     "execution_count": 62,
     "metadata": {},
     "output_type": "execute_result"
    }
   ],
   "source": [
    "data.shape"
   ]
  },
  {
   "cell_type": "code",
   "execution_count": 63,
   "id": "bb12c77c",
   "metadata": {},
   "outputs": [],
   "source": [
    "X=data[['age','gender','height','weight','ap_hi','ap_lo','cholesterol','gluc','smoke','alco','active','cardio']] \n",
    "y=data['output']"
   ]
  },
  {
   "cell_type": "markdown",
   "id": "65d8eacf",
   "metadata": {},
   "source": [
    "# Random Forest"
   ]
  },
  {
   "cell_type": "code",
   "execution_count": 64,
   "id": "2066d3bd",
   "metadata": {},
   "outputs": [],
   "source": [
    "X_train, X_test, y_train, y_test = train_test_split(X, y, test_size=0.3)"
   ]
  },
  {
   "cell_type": "code",
   "execution_count": 65,
   "id": "3db04467",
   "metadata": {},
   "outputs": [],
   "source": [
    "clf=RandomForestClassifier(n_estimators=100)"
   ]
  },
  {
   "cell_type": "code",
   "execution_count": 66,
   "id": "7832b0bd",
   "metadata": {},
   "outputs": [
    {
     "data": {
      "text/plain": [
       "RandomForestClassifier()"
      ]
     },
     "execution_count": 66,
     "metadata": {},
     "output_type": "execute_result"
    }
   ],
   "source": [
    "# a = datetime.datetime.now().replace(microsecond=0)\n",
    "clf.fit(X_train,y_train)\n",
    "# b = datetime.datetime.now().replace(microsecond=0)\n",
    "# print(b-a)"
   ]
  },
  {
   "cell_type": "code",
   "execution_count": 67,
   "id": "77c2787f",
   "metadata": {},
   "outputs": [
    {
     "name": "stdout",
     "output_type": "stream",
     "text": [
      "Random Forest Time Duration -  0:00:00.865908\n",
      "Random Forest Accuracy: 0.7124285714285714\n"
     ]
    }
   ],
   "source": [
    "a = datetime.datetime.now()\n",
    "y_pred=clf.predict(X_test)\n",
    "b = datetime.datetime.now()\n",
    "print('Random Forest Time Duration - ',b-a)\n",
    "print(\"Random Forest Accuracy:\",metrics.accuracy_score(y_test, y_pred))"
   ]
  },
  {
   "cell_type": "code",
   "execution_count": 68,
   "id": "eadb50ad",
   "metadata": {},
   "outputs": [],
   "source": [
    "# a = datetime.datetime.now()\n",
    "# b = datetime.datetime.now()\n",
    "# print(b-a)"
   ]
  },
  {
   "cell_type": "markdown",
   "id": "fe4098eb",
   "metadata": {},
   "source": [
    "# SVM"
   ]
  },
  {
   "cell_type": "code",
   "execution_count": 69,
   "id": "3d8b1a97",
   "metadata": {},
   "outputs": [],
   "source": [
    "X_train, X_test, y_train, y_test = train_test_split(X, y, test_size=0.3, random_state=1, stratify = y)"
   ]
  },
  {
   "cell_type": "code",
   "execution_count": 70,
   "id": "77ab8b9d",
   "metadata": {},
   "outputs": [],
   "source": [
    "# Feature Scaling\n",
    " \n",
    "sc = StandardScaler()\n",
    "sc.fit(X_train)\n",
    "X_train_std = sc.transform(X_train)\n",
    "X_test_std = sc.transform(X_test)"
   ]
  },
  {
   "cell_type": "code",
   "execution_count": 71,
   "id": "0cb46301",
   "metadata": {},
   "outputs": [
    {
     "data": {
      "text/plain": [
       "SVC(C=0.1, kernel='linear', random_state=1)"
      ]
     },
     "execution_count": 71,
     "metadata": {},
     "output_type": "execute_result"
    }
   ],
   "source": [
    "# Training a SVM classifier using SVC class\n",
    "svm = SVC(kernel= 'linear', random_state=1, C=0.1)\n",
    "svm.fit(X_train_std, y_train)"
   ]
  },
  {
   "cell_type": "code",
   "execution_count": 72,
   "id": "ecc8a95c",
   "metadata": {},
   "outputs": [
    {
     "name": "stdout",
     "output_type": "stream",
     "text": [
      "SVM Time Duration -  0:00:25.018563\n",
      "SVM Accuracy: 0.724\n"
     ]
    }
   ],
   "source": [
    "# Mode performance\n",
    "a = datetime.datetime.now()\n",
    "y_pred = svm.predict(X_test_std)\n",
    "b = datetime.datetime.now()\n",
    "print('SVM Time Duration - ',b-a)\n",
    "print('SVM Accuracy: %.3f' % accuracy_score(y_test, y_pred))"
   ]
  },
  {
   "cell_type": "markdown",
   "id": "5643ae43",
   "metadata": {},
   "source": [
    "# SVM SGDClassifier "
   ]
  },
  {
   "cell_type": "code",
   "execution_count": 73,
   "id": "05f92002",
   "metadata": {},
   "outputs": [
    {
     "name": "stdout",
     "output_type": "stream",
     "text": [
      "SVM SGDClassifier -  0:00:00.000999\n",
      "SVM SGDClassifier Accuracy: 0.723\n"
     ]
    }
   ],
   "source": [
    "# Instantiate SVM classifier using SGDClassifier\n",
    "svm = SGDClassifier(loss='hinge')\n",
    " \n",
    "# Fit the model\n",
    "svm.fit(X_train_std, y_train)\n",
    " \n",
    "# Model Performance\n",
    "a = datetime.datetime.now()\n",
    "y_pred = svm.predict(X_test_std)\n",
    "b = datetime.datetime.now()\n",
    "print('SVM SGDClassifier - ',b-a)\n",
    "print('SVM SGDClassifier Accuracy: %.3f' % accuracy_score(y_test, y_pred))"
   ]
  },
  {
   "cell_type": "markdown",
   "id": "39bbd322",
   "metadata": {},
   "source": [
    "# KNN.Model Evaluation for k=5"
   ]
  },
  {
   "cell_type": "code",
   "execution_count": 74,
   "id": "3432d282",
   "metadata": {},
   "outputs": [
    {
     "data": {
      "text/plain": [
       "KNeighborsClassifier()"
      ]
     },
     "execution_count": 74,
     "metadata": {},
     "output_type": "execute_result"
    }
   ],
   "source": [
    "X_train, X_test, y_train, y_test = train_test_split(X, y, test_size=0.3)\n",
    "#Create KNN Classifier\n",
    "knn = KNeighborsClassifier(n_neighbors=5)\n",
    "\n",
    "#Train the model using the training sets\n",
    "knn.fit(X_train, y_train)"
   ]
  },
  {
   "cell_type": "code",
   "execution_count": 81,
   "id": "ffca594c",
   "metadata": {},
   "outputs": [
    {
     "name": "stdout",
     "output_type": "stream",
     "text": [
      "KNN k=5 Time Duration-  0:00:02.243905\n",
      "KNN k=5 Accuracy: 0.6911428571428572\n"
     ]
    }
   ],
   "source": [
    "#Predict the response for test dataset\n",
    "a = datetime.datetime.now()\n",
    "y_pred = knn.predict(X_test)\n",
    "b = datetime.datetime.now()\n",
    "print('KNN k=5 Time Duration- ',b-a)\n",
    "print(\"KNN k=5 Accuracy:\",metrics.accuracy_score(y_test, y_pred))"
   ]
  },
  {
   "cell_type": "markdown",
   "id": "c642f546",
   "metadata": {},
   "source": [
    "# KNN Re-generating Model for K=7"
   ]
  },
  {
   "cell_type": "code",
   "execution_count": 82,
   "id": "56dde330",
   "metadata": {},
   "outputs": [
    {
     "name": "stdout",
     "output_type": "stream",
     "text": [
      "KNN k=7 Time Duration-  0:00:02.820741\n",
      "KNN k=7 Accuracy: 0.6911428571428572\n"
     ]
    }
   ],
   "source": [
    "knn = KNeighborsClassifier(n_neighbors=7)\n",
    "#Create KNN Classifier\n",
    "knn = KNeighborsClassifier(n_neighbors=7)\n",
    "\n",
    "#Train the model using the training sets\n",
    "knn.fit(X_train, y_train)\n",
    "\n",
    "#Predict the response for test dataset\n",
    "y_pred = knn.predict(X_test)\n",
    "\n",
    "a = datetime.datetime.now()\n",
    "y_pred = knn.predict(X_test)\n",
    "b = datetime.datetime.now()\n",
    "print('KNN k=7 Time Duration- ',b-a)\n",
    "print(\"KNN k=7 Accuracy:\",metrics.accuracy_score(y_test, y_pred))"
   ]
  },
  {
   "cell_type": "markdown",
   "id": "d43e1e8e",
   "metadata": {},
   "source": [
    "# Gradient Boosting Machine for Classification using repeated k-fold cross-validation and reports the mean accuracy."
   ]
  },
  {
   "cell_type": "code",
   "execution_count": 83,
   "id": "39512c9e",
   "metadata": {},
   "outputs": [
    {
     "name": "stdout",
     "output_type": "stream",
     "text": [
      "Gradient Boosting Machine for Classification Time Duation-  0:00:00.346077\n",
      "Gradient Boosting Machine Accuracy: 0.916 (0.025)\n"
     ]
    }
   ],
   "source": [
    "# define dataset\n",
    "X, y = make_classification(n_samples=1000, n_features=10, n_informative=5, n_redundant=5, random_state=1)\n",
    "\n",
    "# evaluate the model\n",
    "model = GradientBoostingClassifier()\n",
    "cv = RepeatedStratifiedKFold(n_splits=10, n_repeats=3, random_state=1)\n",
    "n_scores = cross_val_score(model, X, y, scoring='accuracy', cv=cv, n_jobs=-1, error_score='raise')\n",
    "\n",
    "# fit the model on the whole dataset\n",
    "model = GradientBoostingClassifier()\n",
    "a = datetime.datetime.now()\n",
    "model.fit(X, y)\n",
    "b = datetime.datetime.now()\n",
    "\n",
    "\n",
    "print('Gradient Boosting Machine for Classification Time Duation- ',b-a)\n",
    "print('Gradient Boosting Machine Accuracy: %.3f (%.3f)' % (mean(n_scores), std(n_scores)))"
   ]
  },
  {
   "cell_type": "markdown",
   "id": "0d47c44e",
   "metadata": {},
   "source": [
    "# Gradient Boosting Machine for Regression using repeated k-fold cross-validation and reports the mean absolute error."
   ]
  },
  {
   "cell_type": "code",
   "execution_count": 84,
   "id": "3d4ff8f1",
   "metadata": {},
   "outputs": [
    {
     "name": "stdout",
     "output_type": "stream",
     "text": [
      "Gradient Boosting Machine for Regression Time Duation-  0:00:00.302417\n",
      "Gradient Boosting Machine for Regression : -11.866 (1.133)\n"
     ]
    }
   ],
   "source": [
    "# define dataset\n",
    "X, y = make_regression(n_samples=1000, n_features=10, n_informative=5, random_state=1)\n",
    "\n",
    "# evaluate the model\n",
    "model = GradientBoostingRegressor()\n",
    "cv = RepeatedKFold(n_splits=10, n_repeats=3, random_state=1)\n",
    "n_scores = cross_val_score(model, X, y, scoring='neg_mean_absolute_error', cv=cv, n_jobs=-1, error_score='raise')\n",
    "\n",
    "\n",
    "# fit the model on the whole dataset\n",
    "model = GradientBoostingRegressor()\n",
    "a = datetime.datetime.now()\n",
    "model.fit(X, y)\n",
    "b = datetime.datetime.now()\n",
    "\n",
    "print('Gradient Boosting Machine for Regression Time Duation- ',b-a)\n",
    "print('Gradient Boosting Machine for Regression : %.3f (%.3f)' % (mean(n_scores), std(n_scores)))"
   ]
  },
  {
   "cell_type": "code",
   "execution_count": null,
   "id": "409d1a83",
   "metadata": {},
   "outputs": [],
   "source": []
  }
 ],
 "metadata": {
  "kernelspec": {
   "display_name": "Python 3 (ipykernel)",
   "language": "python",
   "name": "python3"
  },
  "language_info": {
   "codemirror_mode": {
    "name": "ipython",
    "version": 3
   },
   "file_extension": ".py",
   "mimetype": "text/x-python",
   "name": "python",
   "nbconvert_exporter": "python",
   "pygments_lexer": "ipython3",
   "version": "3.9.12"
  }
 },
 "nbformat": 4,
 "nbformat_minor": 5
}
